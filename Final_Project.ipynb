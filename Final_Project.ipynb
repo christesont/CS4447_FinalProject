{
 "cells": [
  {
   "cell_type": "markdown",
   "metadata": {},
   "source": [
    "# CS4447 Final Project - Predicting Real Disasters from Tweets\n",
    "## Hafez Gharbiah, Tyler Christeson\n",
    "## data: https://www.kaggle.com/vbmokin/nlp-with-disaster-tweets-cleaning-data"
   ]
  },
  {
   "cell_type": "markdown",
   "metadata": {},
   "source": [
    "## Rubric + Guidelines\n",
    "1. Proper tagging of Github repository for final report as per deadlines (0.5 = 0.25 + 0.25 points)\n",
    "1. Dataset and motivation slide (1 points)\n",
    "    - How/why the dataset was collected and a description of the metadata of your dataset.\n",
    "1. Actual task definition/research question (2 points)\n",
    "    - What real-world problem are you trying to solve? What are the input and output of your analysis?\n",
    "1. Literature review (2 points)\n",
    "    - What other work has been done in this area, and how is your work novel compared to others?\n",
    "1. Quality of cleaning (6 points, 2 points each) \n",
    "    - Data cleaning and type conversion activity. Please share anything unusual you faced during this activity.\n",
    "    - What did you do about missing values and why? Handling missing values properly is very important.\n",
    "    - New feature/attribute creation and data summary statistics and interpretation.\n",
    "1. Visualization (8 points, 2 points each)\n",
    "    - Data visualization activity (box plot, bar plot, violin plot, and pairplot to see relationships and distribution, etc.).\n",
    "    - Describe anything you find in the data after each visualization.\n",
    "    - What data visualization helped you understand about data distribution.\n",
    "    - What you did about possible outlier as per data distribution visualization. (Did you confirm with your client whether it is actually an outlier or put a disclosure statement in your notebook if you decided to remove it?)"
   ]
  },
  {
   "cell_type": "markdown",
   "metadata": {},
   "source": [
    "- The problem we're trying to solve is predicting whether a tweet is about a real disaster or not, which can be used to determine if emergency services need to be sent.\n",
    "\n",
    "- We have a collection of 10,000 tweets. The attributes of the dataset are a unique identifier for each tweet, text of the tweet, where the tweet was sent from, keywords that could be used to identify disasters, and whether or not it is about a real disaster (only on some of them).\n",
    "\n",
    "- Examples of records:\n",
    "    - \"Heard about # earthquake is different cities, stay safe everyone .\" \n",
    "    - \"Please like and share our new page for our Indoor Trampoline Park Aftershock opening this fall !\" \n",
    "    - \" nowplaying Alfons - Ablaze 2015 on Puls Radio pulsradio\" \n",
    "    - \"Coincidence Or # Curse ? Still # Unresolved Secrets From Past # accident\"\n",
    "\n",
    "- This is a noisy data set because the tweets are not all about disasters, and certain disaster keywords are used in contexts that are not disasters . For example, while \"ablaze\" is used in several real disaster tweets about ongoing fires, in the above example it is used as a song title. The same is true for many keywords, like \"accident\" and \"aftershock\" above.\n",
    "\n",
    "- Feature engineering can be used in this dataset to:\n",
    "    - extract years to see if we're tweeting about events that aren't current\n",
    "    - extract news network name to determine if the accident is being reported on or not\n",
    "    - topic modeling to extract relevant topics as features"
   ]
  },
  {
   "cell_type": "code",
   "execution_count": 1,
   "metadata": {},
   "outputs": [],
   "source": [
    "import pandas as pd"
   ]
  },
  {
   "cell_type": "code",
   "execution_count": 14,
   "metadata": {},
   "outputs": [
    {
     "data": {
      "text/plain": [
       "4342"
      ]
     },
     "execution_count": 14,
     "metadata": {},
     "output_type": "execute_result"
    }
   ],
   "source": [
    "df = pd.read_csv('train_data_cleaning.csv',index_col=0)"
   ]
  },
  {
   "cell_type": "code",
   "execution_count": 18,
   "metadata": {},
   "outputs": [
    {
     "data": {
      "text/plain": [
       "0.6672796532247471"
      ]
     },
     "execution_count": 18,
     "metadata": {},
     "output_type": "execute_result"
    }
   ],
   "source": [
    "df.target[df.location.isna() == False].count() / df.target.count()"
   ]
  },
  {
   "cell_type": "code",
   "execution_count": 19,
   "metadata": {},
   "outputs": [
    {
     "data": {
      "text/plain": [
       "0.671354325894222"
      ]
     },
     "execution_count": 19,
     "metadata": {},
     "output_type": "execute_result"
    }
   ],
   "source": [
    "#ratio of tweets about disasters w/ locations to all tweets about disasters\n",
    "df.target[df.location.isna() == False].sum()/df.target.sum()"
   ]
  },
  {
   "cell_type": "code",
   "execution_count": 20,
   "metadata": {},
   "outputs": [
    {
     "data": {
      "text/plain": [
       "0.4322834645669291"
      ]
     },
     "execution_count": 20,
     "metadata": {},
     "output_type": "execute_result"
    }
   ],
   "source": [
    "#ratio of tweets about disasters w/ locations to all tweets with locations\n",
    "df.target[df.location.isna() == False].sum()/df.target[df.location.isna() == False].count()"
   ]
  },
  {
   "cell_type": "code",
   "execution_count": 21,
   "metadata": {},
   "outputs": [
    {
     "data": {
      "text/plain": [
       "0.4296597924602653"
      ]
     },
     "execution_count": 21,
     "metadata": {},
     "output_type": "execute_result"
    }
   ],
   "source": [
    "df.target.sum()/df.target.count()"
   ]
  }
 ],
 "metadata": {
  "kernelspec": {
   "display_name": "Python 3",
   "language": "python",
   "name": "python3"
  },
  "language_info": {
   "codemirror_mode": {
    "name": "ipython",
    "version": 3
   },
   "file_extension": ".py",
   "mimetype": "text/x-python",
   "name": "python",
   "nbconvert_exporter": "python",
   "pygments_lexer": "ipython3",
   "version": "3.8.5"
  }
 },
 "nbformat": 4,
 "nbformat_minor": 2
}
