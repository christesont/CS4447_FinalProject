{
 "cells": [
  {
   "cell_type": "markdown",
   "metadata": {},
   "source": [
    "# CS4447 Final Project - Predicting Real Disasters from Tweets\n",
    "## Hafez Gharbiah, Tyler Christeson\n",
    "## data: https://www.kaggle.com/vbmokin/nlp-with-disaster-tweets-cleaning-data"
   ]
  },
  {
   "cell_type": "markdown",
   "metadata": {},
   "source": [
    "## Rubric + Guidelines\n",
    "1. Proper tagging of Github repository for final report as per deadlines (0.5 = 0.25 + 0.25 points)\n",
    "1. Dataset and motivation slide (1 points)\n",
    "    - How/why the dataset was collected and a description of the metadata of your dataset.\n",
    "1. Actual task definition/research question (2 points)\n",
    "    - What real-world problem are you trying to solve? What are the input and output of your analysis?\n",
    "1. Literature review (2 points)\n",
    "    - What other work has been done in this area, and how is your work novel compared to others?\n",
    "1. Quality of cleaning (6 points, 2 points each) \n",
    "    - Data cleaning and type conversion activity. Please share anything unusual you faced during this activity.\n",
    "    - What did you do about missing values and why? Handling missing values properly is very important.\n",
    "    - New feature/attribute creation and data summary statistics and interpretation.\n",
    "1. Visualization (8 points, 2 points each)\n",
    "    - Data visualization activity (box plot, bar plot, violin plot, and pairplot to see relationships and distribution, etc.).\n",
    "    - Describe anything you find in the data after each visualization.\n",
    "    - What data visualization helped you understand about data distribution.\n",
    "    - What you did about possible outlier as per data distribution visualization. (Did you confirm with your client whether it is actually an outlier or put a disclosure statement in your notebook if you decided to remove it?)"
   ]
  },
  {
   "cell_type": "markdown",
   "metadata": {},
   "source": [
    "- The problem we're trying to solve is predicting whether a tweet is about a real disaster or not, which can be used to determine if emergency services need to be sent.\n",
    "\n",
    "- We have a collection of 10,000 tweets. The attributes of the dataset are a unique identifier for each tweet, text of the tweet, where the tweet was sent from, keywords that could be used to identify disasters, and whether or not it is about a real disaster (only on some of them).\n",
    "\n",
    "- Examples of records:\n",
    "    - \"Heard about # earthquake is different cities, stay safe everyone .\" \n",
    "    - \"Please like and share our new page for our Indoor Trampoline Park Aftershock opening this fall !\" \n",
    "    - \" nowplaying Alfons - Ablaze 2015 on Puls Radio pulsradio\" \n",
    "    - \"Coincidence Or # Curse ? Still # Unresolved Secrets From Past # accident\"\n",
    "\n",
    "- This is a noisy data set because the tweets are not all about disasters, and certain disaster keywords are used in contexts that are not disasters . For example, while \"ablaze\" is used in several real disaster tweets about ongoing fires, in the above example it is used as a song title. The same is true for many keywords, like \"accident\" and \"aftershock\" above.\n",
    "\n",
    "- Feature engineering can be used in this dataset to:\n",
    "    - extract years to see if we're tweeting about events that aren't current\n",
    "    - extract news network name to determine if the accident is being reported on or not\n",
    "    - topic modeling to extract relevant topics as features"
   ]
  },
  {
   "cell_type": "code",
   "execution_count": 2,
   "metadata": {},
   "outputs": [
    {
     "name": "stderr",
     "output_type": "stream",
     "text": [
      "/mnt/c/users/chris/desktop/atomprojects/cs4447/dst1_env/lib/python3.8/site-packages/sklearn/feature_extraction/image.py:167: DeprecationWarning: `np.int` is a deprecated alias for the builtin `int`. To silence this warning, use `int` by itself. Doing this will not modify any behavior and is safe. When replacing `np.int`, you may wish to use e.g. `np.int64` or `np.int32` to specify the precision. If you wish to review your current use, check the release note link for additional information.\n",
      "Deprecated in NumPy 1.20; for more details and guidance: https://numpy.org/devdocs/release/1.20.0-notes.html#deprecations\n",
      "  dtype=np.int):\n",
      "/mnt/c/users/chris/desktop/atomprojects/cs4447/dst1_env/lib/python3.8/site-packages/sklearn/linear_model/least_angle.py:35: DeprecationWarning: `np.float` is a deprecated alias for the builtin `float`. To silence this warning, use `float` by itself. Doing this will not modify any behavior and is safe. If you specifically wanted the numpy scalar type, use `np.float64` here.\n",
      "Deprecated in NumPy 1.20; for more details and guidance: https://numpy.org/devdocs/release/1.20.0-notes.html#deprecations\n",
      "  eps=np.finfo(np.float).eps,\n",
      "/mnt/c/users/chris/desktop/atomprojects/cs4447/dst1_env/lib/python3.8/site-packages/sklearn/linear_model/least_angle.py:597: DeprecationWarning: `np.float` is a deprecated alias for the builtin `float`. To silence this warning, use `float` by itself. Doing this will not modify any behavior and is safe. If you specifically wanted the numpy scalar type, use `np.float64` here.\n",
      "Deprecated in NumPy 1.20; for more details and guidance: https://numpy.org/devdocs/release/1.20.0-notes.html#deprecations\n",
      "  eps=np.finfo(np.float).eps, copy_X=True, fit_path=True,\n",
      "/mnt/c/users/chris/desktop/atomprojects/cs4447/dst1_env/lib/python3.8/site-packages/sklearn/linear_model/least_angle.py:836: DeprecationWarning: `np.float` is a deprecated alias for the builtin `float`. To silence this warning, use `float` by itself. Doing this will not modify any behavior and is safe. If you specifically wanted the numpy scalar type, use `np.float64` here.\n",
      "Deprecated in NumPy 1.20; for more details and guidance: https://numpy.org/devdocs/release/1.20.0-notes.html#deprecations\n",
      "  eps=np.finfo(np.float).eps, copy_X=True, fit_path=True,\n",
      "/mnt/c/users/chris/desktop/atomprojects/cs4447/dst1_env/lib/python3.8/site-packages/sklearn/linear_model/least_angle.py:862: DeprecationWarning: `np.float` is a deprecated alias for the builtin `float`. To silence this warning, use `float` by itself. Doing this will not modify any behavior and is safe. If you specifically wanted the numpy scalar type, use `np.float64` here.\n",
      "Deprecated in NumPy 1.20; for more details and guidance: https://numpy.org/devdocs/release/1.20.0-notes.html#deprecations\n",
      "  eps=np.finfo(np.float).eps, positive=False):\n",
      "/mnt/c/users/chris/desktop/atomprojects/cs4447/dst1_env/lib/python3.8/site-packages/sklearn/linear_model/least_angle.py:1097: DeprecationWarning: `np.float` is a deprecated alias for the builtin `float`. To silence this warning, use `float` by itself. Doing this will not modify any behavior and is safe. If you specifically wanted the numpy scalar type, use `np.float64` here.\n",
      "Deprecated in NumPy 1.20; for more details and guidance: https://numpy.org/devdocs/release/1.20.0-notes.html#deprecations\n",
      "  max_n_alphas=1000, n_jobs=None, eps=np.finfo(np.float).eps,\n",
      "/mnt/c/users/chris/desktop/atomprojects/cs4447/dst1_env/lib/python3.8/site-packages/sklearn/linear_model/least_angle.py:1344: DeprecationWarning: `np.float` is a deprecated alias for the builtin `float`. To silence this warning, use `float` by itself. Doing this will not modify any behavior and is safe. If you specifically wanted the numpy scalar type, use `np.float64` here.\n",
      "Deprecated in NumPy 1.20; for more details and guidance: https://numpy.org/devdocs/release/1.20.0-notes.html#deprecations\n",
      "  max_n_alphas=1000, n_jobs=None, eps=np.finfo(np.float).eps,\n",
      "/mnt/c/users/chris/desktop/atomprojects/cs4447/dst1_env/lib/python3.8/site-packages/sklearn/linear_model/least_angle.py:1480: DeprecationWarning: `np.float` is a deprecated alias for the builtin `float`. To silence this warning, use `float` by itself. Doing this will not modify any behavior and is safe. If you specifically wanted the numpy scalar type, use `np.float64` here.\n",
      "Deprecated in NumPy 1.20; for more details and guidance: https://numpy.org/devdocs/release/1.20.0-notes.html#deprecations\n",
      "  eps=np.finfo(np.float).eps, copy_X=True, positive=False):\n",
      "/mnt/c/users/chris/desktop/atomprojects/cs4447/dst1_env/lib/python3.8/site-packages/sklearn/linear_model/randomized_l1.py:152: DeprecationWarning: `np.float` is a deprecated alias for the builtin `float`. To silence this warning, use `float` by itself. Doing this will not modify any behavior and is safe. If you specifically wanted the numpy scalar type, use `np.float64` here.\n",
      "Deprecated in NumPy 1.20; for more details and guidance: https://numpy.org/devdocs/release/1.20.0-notes.html#deprecations\n",
      "  precompute=False, eps=np.finfo(np.float).eps,\n",
      "/mnt/c/users/chris/desktop/atomprojects/cs4447/dst1_env/lib/python3.8/site-packages/sklearn/linear_model/randomized_l1.py:320: DeprecationWarning: `np.float` is a deprecated alias for the builtin `float`. To silence this warning, use `float` by itself. Doing this will not modify any behavior and is safe. If you specifically wanted the numpy scalar type, use `np.float64` here.\n",
      "Deprecated in NumPy 1.20; for more details and guidance: https://numpy.org/devdocs/release/1.20.0-notes.html#deprecations\n",
      "  eps=np.finfo(np.float).eps, random_state=None,\n",
      "/mnt/c/users/chris/desktop/atomprojects/cs4447/dst1_env/lib/python3.8/site-packages/sklearn/linear_model/randomized_l1.py:580: DeprecationWarning: `np.float` is a deprecated alias for the builtin `float`. To silence this warning, use `float` by itself. Doing this will not modify any behavior and is safe. If you specifically wanted the numpy scalar type, use `np.float64` here.\n",
      "Deprecated in NumPy 1.20; for more details and guidance: https://numpy.org/devdocs/release/1.20.0-notes.html#deprecations\n",
      "  eps=4 * np.finfo(np.float).eps, n_jobs=None,\n",
      "[nltk_data] Downloading package averaged_perceptron_tagger to\n",
      "[nltk_data]     /home/christesont/nltk_data...\n",
      "[nltk_data]   Package averaged_perceptron_tagger is already up-to-\n",
      "[nltk_data]       date!\n"
     ]
    }
   ],
   "source": [
    "import warnings\n",
    "warnings.filterwarnings(\"ignore\", category=DeprecationWarning)\n",
    "\n",
    "import pandas as pd\n",
    "import numpy as np\n",
    "import re\n",
    "import nltk\n",
    "from nltk.stem import WordNetLemmatizer\n",
    "from nltk.corpus import wordnet\n",
    "nltk.download('averaged_perceptron_tagger')\n",
    "import string\n",
    "import seaborn as sns\n",
    "import matplotlib.pyplot as plt\n",
    "\n",
    "from sklearn.feature_extraction.text import CountVectorizer\n",
    "from sklearn.feature_extraction.text import TfidfTransformer\n",
    "from sklearn.pipeline import Pipeline\n",
    "import sklearn\n",
    "# from sklearn.naive_bayes import GaussianNB\n",
    "# from sklearn.metrics import confusion_matrix\n",
    "# from sklearn.tree import DecisionTreeClassifier\n",
    "# from sklearn.ensemble import RandomForestClassifier"
   ]
  },
  {
   "cell_type": "code",
   "execution_count": 3,
   "metadata": {},
   "outputs": [
    {
     "data": {
      "text/html": [
       "<div>\n",
       "<style scoped>\n",
       "    .dataframe tbody tr th:only-of-type {\n",
       "        vertical-align: middle;\n",
       "    }\n",
       "\n",
       "    .dataframe tbody tr th {\n",
       "        vertical-align: top;\n",
       "    }\n",
       "\n",
       "    .dataframe thead th {\n",
       "        text-align: right;\n",
       "    }\n",
       "</style>\n",
       "<table border=\"1\" class=\"dataframe\">\n",
       "  <thead>\n",
       "    <tr style=\"text-align: right;\">\n",
       "      <th></th>\n",
       "      <th>keyword</th>\n",
       "      <th>location</th>\n",
       "      <th>text</th>\n",
       "      <th>target</th>\n",
       "    </tr>\n",
       "    <tr>\n",
       "      <th>id</th>\n",
       "      <th></th>\n",
       "      <th></th>\n",
       "      <th></th>\n",
       "      <th></th>\n",
       "    </tr>\n",
       "  </thead>\n",
       "  <tbody>\n",
       "    <tr>\n",
       "      <th>1</th>\n",
       "      <td>NaN</td>\n",
       "      <td>NaN</td>\n",
       "      <td>Our Deeds are the Reason of this  # earthquake...</td>\n",
       "      <td>1</td>\n",
       "    </tr>\n",
       "    <tr>\n",
       "      <th>4</th>\n",
       "      <td>NaN</td>\n",
       "      <td>NaN</td>\n",
       "      <td>Forest fire near La Ronge Sask .  Canada</td>\n",
       "      <td>1</td>\n",
       "    </tr>\n",
       "    <tr>\n",
       "      <th>5</th>\n",
       "      <td>NaN</td>\n",
       "      <td>NaN</td>\n",
       "      <td>All residents asked to  ' shelter in place '  ...</td>\n",
       "      <td>1</td>\n",
       "    </tr>\n",
       "    <tr>\n",
       "      <th>6</th>\n",
       "      <td>NaN</td>\n",
       "      <td>NaN</td>\n",
       "      <td>13,000 people receive  # wildfires evacuation ...</td>\n",
       "      <td>1</td>\n",
       "    </tr>\n",
       "    <tr>\n",
       "      <th>7</th>\n",
       "      <td>NaN</td>\n",
       "      <td>NaN</td>\n",
       "      <td>Just got sent this photo from Ruby  # Alaska a...</td>\n",
       "      <td>1</td>\n",
       "    </tr>\n",
       "    <tr>\n",
       "      <th>...</th>\n",
       "      <td>...</td>\n",
       "      <td>...</td>\n",
       "      <td>...</td>\n",
       "      <td>...</td>\n",
       "    </tr>\n",
       "    <tr>\n",
       "      <th>10869</th>\n",
       "      <td>NaN</td>\n",
       "      <td>NaN</td>\n",
       "      <td>Two giant cranes holding a bridge collapse int...</td>\n",
       "      <td>1</td>\n",
       "    </tr>\n",
       "    <tr>\n",
       "      <th>10870</th>\n",
       "      <td>NaN</td>\n",
       "      <td>NaN</td>\n",
       "      <td>@ Aria Ahrary  @ TheTawniest The out of contr...</td>\n",
       "      <td>1</td>\n",
       "    </tr>\n",
       "    <tr>\n",
       "      <th>10871</th>\n",
       "      <td>NaN</td>\n",
       "      <td>NaN</td>\n",
       "      <td>M1 . 94  [ 01 : 04 UTC ]  ? 5km S of Volcano H...</td>\n",
       "      <td>1</td>\n",
       "    </tr>\n",
       "    <tr>\n",
       "      <th>10872</th>\n",
       "      <td>NaN</td>\n",
       "      <td>NaN</td>\n",
       "      <td>Police investigating after an e - bike collide...</td>\n",
       "      <td>1</td>\n",
       "    </tr>\n",
       "    <tr>\n",
       "      <th>10873</th>\n",
       "      <td>NaN</td>\n",
       "      <td>NaN</td>\n",
       "      <td>The Latest :  More Homes Razed by Northern Cal...</td>\n",
       "      <td>1</td>\n",
       "    </tr>\n",
       "  </tbody>\n",
       "</table>\n",
       "<p>7613 rows × 4 columns</p>\n",
       "</div>"
      ],
      "text/plain": [
       "      keyword location                                               text  \\\n",
       "id                                                                          \n",
       "1         NaN      NaN  Our Deeds are the Reason of this  # earthquake...   \n",
       "4         NaN      NaN           Forest fire near La Ronge Sask .  Canada   \n",
       "5         NaN      NaN  All residents asked to  ' shelter in place '  ...   \n",
       "6         NaN      NaN  13,000 people receive  # wildfires evacuation ...   \n",
       "7         NaN      NaN  Just got sent this photo from Ruby  # Alaska a...   \n",
       "...       ...      ...                                                ...   \n",
       "10869     NaN      NaN  Two giant cranes holding a bridge collapse int...   \n",
       "10870     NaN      NaN   @ Aria Ahrary  @ TheTawniest The out of contr...   \n",
       "10871     NaN      NaN  M1 . 94  [ 01 : 04 UTC ]  ? 5km S of Volcano H...   \n",
       "10872     NaN      NaN  Police investigating after an e - bike collide...   \n",
       "10873     NaN      NaN  The Latest :  More Homes Razed by Northern Cal...   \n",
       "\n",
       "       target  \n",
       "id             \n",
       "1           1  \n",
       "4           1  \n",
       "5           1  \n",
       "6           1  \n",
       "7           1  \n",
       "...       ...  \n",
       "10869       1  \n",
       "10870       1  \n",
       "10871       1  \n",
       "10872       1  \n",
       "10873       1  \n",
       "\n",
       "[7613 rows x 4 columns]"
      ]
     },
     "execution_count": 3,
     "metadata": {},
     "output_type": "execute_result"
    }
   ],
   "source": [
    "traindf = pd.read_csv('train_data_cleaning.csv',index_col=0)\n",
    "testdf = pd.read_csv('test_data_cleaning.csv',index_col=0)\n",
    "# traindf.keyword[traindf.target==0].value_counts()\n",
    "traindf"
   ]
  },
  {
   "cell_type": "code",
   "execution_count": 4,
   "metadata": {},
   "outputs": [],
   "source": [
    "# Quality of cleaning (6 points, 2 points each)\n",
    "### Data cleaning and type conversion activity. Please share anything unusual you faced during this activity.\n",
    "### What did you do about missing values and why? Handling missing values properly is very important.\n",
    "### New feature/attribute creation and data summary statistics and interpretation. \n",
    "train_text = traindf.text\n",
    "stopwords = nltk.corpus.stopwords.words('english')\n",
    "stopwords = set(stopwords + list(string.punctuation))\n",
    "train_text = [nltk.word_tokenize(i) for i in train_text]\n",
    "train_text = [[w.lower() for w in train_text[i] if w not in stopwords] for i in range(len(train_text))]\n",
    "\n",
    "wnetl = WordNetLemmatizer()\n",
    "\n",
    "def nltk_tag_pos(tag):   \n",
    "    #adapted from https://stackoverflow.com/questions/15586721/wordnet-lemmatization-and-pos-tagging-in-python\n",
    "    if tag[0]=='J':\n",
    "        return wordnet.ADJ\n",
    "    elif tag[0]=='V':\n",
    "        return wordnet.VERB\n",
    "    elif tag[0]=='N':\n",
    "        return wordnet.NOUN\n",
    "    elif tag[0]=='R':\n",
    "        return wordnet.ADV\n",
    "    else:          \n",
    "        return wordnet.NOUN #noun is default lemmatize POS\n",
    "    \n",
    "train_text_POS = [nltk.pos_tag(i) for i in train_text]    \n",
    "train_text = [[wnetl.lemmatize(i[0],nltk_tag_pos(i[1])) for i in j] for j in train_text_POS]\n",
    "traindf['tweet_length'] = [len(w) for w in train_text]\n",
    "train_text = [' '.join(train_text[i]) for i in range(len(train_text))]\n",
    "\n",
    "traindf.text = train_text"
   ]
  },
  {
   "cell_type": "code",
   "execution_count": 5,
   "metadata": {
    "scrolled": true
   },
   "outputs": [
    {
     "data": {
      "text/plain": [
       "Text(0, 0.5, 'Count')"
      ]
     },
     "execution_count": 5,
     "metadata": {},
     "output_type": "execute_result"
    },
    {
     "data": {
      "image/png": "[encoded data removed]",
      "text/plain": [
       "<Figure size 432x288 with 1 Axes>"
      ]
     },
     "metadata": {
      "needs_background": "light"
     },
     "output_type": "display_data"
    },
    {
     "data": {
      "image/png": "[encoded data removed]",
      "text/plain": [
       "<Figure size 432x288 with 1 Axes>"
      ]
     },
     "metadata": {
      "needs_background": "light"
     },
     "output_type": "display_data"
    },
    {
     "data": {
      "image/png": "[encoded data removed]",
      "text/plain": [
       "<Figure size 432x288 with 1 Axes>"
      ]
     },
     "metadata": {
      "needs_background": "light"
     },
     "output_type": "display_data"
    }
   ],
   "source": [
    "# g = sns.catplot(x=\"target\",y=\"tweet_length\",data=traindf)\n",
    "%matplotlib inline\n",
    "fig, ax = plt.subplots()\n",
    "ax= traindf.tweet_length.hist()\n",
    "ax.set_title('Histogram of Tweet Length for All Tweets')\n",
    "ax.set_xlabel('Number of Words')\n",
    "ax.set_ylabel('Count')\n",
    "\n",
    "fig, ax = plt.subplots()\n",
    "ax = traindf.tweet_length[traindf.target==1].hist()\n",
    "ax.set_title('Histogram of Tweet Length for Emergency Tweets')\n",
    "ax.set_xlabel('Number of Words')\n",
    "ax.set_ylabel('Count')\n",
    "\n",
    "fig, ax = plt.subplots()\n",
    "ax = traindf.tweet_length[traindf.target==0].hist()\n",
    "ax.set_title('Histogram of Tweet Length for Non-emergency Tweets')\n",
    "ax.set_xlabel('Number of Words')\n",
    "ax.set_ylabel('Count')"
   ]
  },
  {
   "cell_type": "code",
   "execution_count": 6,
   "metadata": {},
   "outputs": [
    {
     "name": "stdout",
     "output_type": "stream",
     "text": [
      "[[609 679]\n",
      " [207 789]]\n",
      "Model precision is: 0.5374659400544959\n"
     ]
    }
   ],
   "source": [
    "#bag of words model\n",
    "cv = CountVectorizer()\n",
    "x= cv.fit_transform(train_text).toarray()\n",
    "y = traindf.target.values\n",
    "\n",
    "#70:30 train-test split\n",
    "xtrain, xtest, ytrain, ytest = sklearn.model_selection.train_test_split(x,y,test_size=0.3,random_state=1234)\n",
    "\n",
    "import sklearn.naive_bayes\n",
    "classifier = sklearn.naive_bayes.GaussianNB()\n",
    "classifier.fit(xtrain,ytrain)\n",
    "\n",
    "ypred = classifier.predict(xtest)\n",
    "ypred\n",
    "\n",
    "confusionMatrix = sklearn.metrics.confusion_matrix(ytest,ypred)\n",
    "print(confusionMatrix)\n",
    "tn, fp, fn, tp = confusionMatrix.ravel()\n",
    "accuracy = (tp+tn)/(sum(sum(confusionMatrix)))\n",
    "precision = tp / (tp+fp)\n",
    "modeldf = pd.DataFrame()\n",
    "models = ['Gaussian Naive Bayes']\n",
    "precisions = [precision]\n",
    "print(f'Model precision is: {precision}')"
   ]
  },
  {
   "cell_type": "code",
   "execution_count": 7,
   "metadata": {},
   "outputs": [],
   "source": [
    "xtrain, xtest, ytrain, ytest = sklearn.model_selection.train_test_split(traindf.text, traindf.target, test_size=0.3, random_state=1234)"
   ]
  },
  {
   "cell_type": "code",
   "execution_count": 8,
   "metadata": {},
   "outputs": [
    {
     "name": "stdout",
     "output_type": "stream",
     "text": [
      "[[1162  126]\n",
      " [ 319  677]]\n",
      "Model precision is: 0.8430884184308842\n"
     ]
    }
   ],
   "source": [
    "from sklearn.naive_bayes import MultinomialNB\n",
    "\n",
    "nb = Pipeline([('vect', CountVectorizer()),\n",
    "               ('tfidf', TfidfTransformer()),\n",
    "               ('clf', MultinomialNB()),\n",
    "              ])\n",
    "nb.fit(xtrain, ytrain)\n",
    "            \n",
    "ypred = nb.predict(xtest)\n",
    "\n",
    "confusionMatrix = sklearn.metrics.confusion_matrix(ytest,ypred)\n",
    "print(confusionMatrix)\n",
    "tn, fp, fn, tp = confusionMatrix.ravel()\n",
    "accuracy = (tp+tn)/(sum(sum(confusionMatrix)))\n",
    "precision = tp / (tp+fp)\n",
    "models.append('Multinomial Naive Bayes')\n",
    "precisions.append(precision)\n",
    "print(f'Model precision is: {precision}')"
   ]
  },
  {
   "cell_type": "code",
   "execution_count": 9,
   "metadata": {},
   "outputs": [
    {
     "name": "stdout",
     "output_type": "stream",
     "text": [
      "[[1238   50]\n",
      " [ 458  538]]\n",
      "Model precision is: 0.9149659863945578\n"
     ]
    },
    {
     "name": "stderr",
     "output_type": "stream",
     "text": [
      "/mnt/c/users/chris/desktop/atomprojects/cs4447/dst1_env/lib/python3.8/site-packages/sklearn/linear_model/stochastic_gradient.py:176: FutureWarning: max_iter and tol parameters have been added in SGDClassifier in 0.19. If max_iter is set but tol is left unset, the default value for tol in 0.19 and 0.20 will be None (which is equivalent to -infinity, so it has no effect) but will change in 0.21 to 1e-3. Specify tol to silence this warning.\n",
      "  warnings.warn(\n",
      "/mnt/c/users/chris/desktop/atomprojects/cs4447/dst1_env/lib/python3.8/site-packages/sklearn/linear_model/base.py:283: DeprecationWarning: `np.int` is a deprecated alias for the builtin `int`. To silence this warning, use `int` by itself. Doing this will not modify any behavior and is safe. When replacing `np.int`, you may wish to use e.g. `np.int64` or `np.int32` to specify the precision. If you wish to review your current use, check the release note link for additional information.\n",
      "Deprecated in NumPy 1.20; for more details and guidance: https://numpy.org/devdocs/release/1.20.0-notes.html#deprecations\n",
      "  indices = (scores > 0).astype(np.int)\n"
     ]
    }
   ],
   "source": [
    "from sklearn.linear_model import SGDClassifier\n",
    "\n",
    "sgd = Pipeline([('vect', CountVectorizer()),\n",
    "                ('tfidf', TfidfTransformer()),\n",
    "                ('clf', SGDClassifier(loss='hinge', penalty='l2',alpha=1e-3, random_state=42, max_iter=5, tol=None)),\n",
    "               ])\n",
    "sgd.fit(xtrain, ytrain)\n",
    "\n",
    "ypred = sgd.predict(xtest)\n",
    "\n",
    "confusionMatrix = sklearn.metrics.confusion_matrix(ytest,ypred)\n",
    "print(confusionMatrix)\n",
    "tn, fp, fn, tp = confusionMatrix.ravel()\n",
    "accuracy = (tp+tn)/(sum(sum(confusionMatrix)))\n",
    "precision = tp / (tp+fp)\n",
    "models.append('SGF Classifier')\n",
    "precisions.append(precision)\n",
    "print(f'Model precision is: {precision}')"
   ]
  },
  {
   "cell_type": "code",
   "execution_count": 10,
   "metadata": {},
   "outputs": [
    {
     "name": "stderr",
     "output_type": "stream",
     "text": [
      "/mnt/c/users/chris/desktop/atomprojects/cs4447/dst1_env/lib/python3.8/site-packages/sklearn/linear_model/logistic.py:431: FutureWarning: Default solver will be changed to 'lbfgs' in 0.22. Specify a solver to silence this warning.\n",
      "  warnings.warn(\"Default solver will be changed to 'lbfgs' in 0.22. \"\n"
     ]
    },
    {
     "name": "stdout",
     "output_type": "stream",
     "text": [
      "[[1014  274]\n",
      " [ 276  720]]\n",
      "Model precision is: 0.7243460764587525\n"
     ]
    },
    {
     "name": "stderr",
     "output_type": "stream",
     "text": [
      "/mnt/c/users/chris/desktop/atomprojects/cs4447/dst1_env/lib/python3.8/site-packages/sklearn/linear_model/base.py:283: DeprecationWarning: `np.int` is a deprecated alias for the builtin `int`. To silence this warning, use `int` by itself. Doing this will not modify any behavior and is safe. When replacing `np.int`, you may wish to use e.g. `np.int64` or `np.int32` to specify the precision. If you wish to review your current use, check the release note link for additional information.\n",
      "Deprecated in NumPy 1.20; for more details and guidance: https://numpy.org/devdocs/release/1.20.0-notes.html#deprecations\n",
      "  indices = (scores > 0).astype(np.int)\n"
     ]
    }
   ],
   "source": [
    "from sklearn.linear_model import LogisticRegression\n",
    "\n",
    "logreg = Pipeline([('vect', CountVectorizer()),\n",
    "                ('tfidf', TfidfTransformer()),\n",
    "                ('clf', LogisticRegression(n_jobs=1, C=1e5)),\n",
    "               ])\n",
    "logreg.fit(xtrain, ytrain)\n",
    "\n",
    "ypred = logreg.predict(xtest)\n",
    "\n",
    "confusionMatrix = sklearn.metrics.confusion_matrix(ytest,ypred)\n",
    "print(confusionMatrix)\n",
    "tn, fp, fn, tp = confusionMatrix.ravel()\n",
    "accuracy = (tp+tn)/(sum(sum(confusionMatrix)))\n",
    "precision = tp / (tp+fp)\n",
    "models.append('Logistic Regression')\n",
    "precisions.append(precision)\n",
    "print(f'Model precision is: {precision}')"
   ]
  },
  {
   "cell_type": "markdown",
   "metadata": {},
   "source": [
    "# Visualizations to Include:\n",
    "1. bar plot comparing models' precisions, and using that we can narrow it down and describe our chosen model more. (looks like SGDClassifier, btw)\n",
    "1. Top 10 words before stop words+lemmatization, and Top 10 words after to show the effect of cleaning\n",
    "1. histograms of tweet lengths for target = 1, target =0, or all tweets together\n",
    "1. any other ideas welcome"
   ]
  },
  {
   "cell_type": "code",
   "execution_count": 30,
   "metadata": {},
   "outputs": [
    {
     "data": {
      "image/png": "[encoded data removed]",
      "text/plain": [
       "<Figure size 691.2x345.6 with 1 Axes>"
      ]
     },
     "metadata": {
      "needs_background": "light"
     },
     "output_type": "display_data"
    }
   ],
   "source": [
    "modeldf['model']=models\n",
    "modeldf['precision']=precisions\n",
    "modeldf\n",
    "plt.figure(figsize=(9.6,4.8))\n",
    "g= sns.barplot(x='model', y='precision',data=modeldf)\n",
    "# g.set_xticklabels(rotation=30,labels=modeldf.model)\n",
    "g.set(xlabel='Model', ylabel='Precision')\n",
    "g.set_title('Precision on Training Set for NLP Classification Models')\n",
    "g.set_ylim(0,1)\n",
    "# for index, row in modeldf.iterrows():\n",
    "#     g.text(row.model,row.precision, round(row.precision,2), color='black', ha=\"center\")\n",
    "plt.show()"
   ]
  },
  {
   "cell_type": "code",
   "execution_count": null,
   "metadata": {},
   "outputs": [],
   "source": []
  }
 ],
 "metadata": {
  "kernelspec": {
   "display_name": "Python 3",
   "language": "python",
   "name": "python3"
  },
  "language_info": {
   "codemirror_mode": {
    "name": "ipython",
    "version": 3
   },
   "file_extension": ".py",
   "mimetype": "text/x-python",
   "name": "python",
   "nbconvert_exporter": "python",
   "pygments_lexer": "ipython3",
   "version": "3.8.5"
  }
 },
 "nbformat": 4,
 "nbformat_minor": 2
}
